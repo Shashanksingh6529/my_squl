{
 "cells": [
  {
   "cell_type": "markdown",
   "id": "0da396c9-db5a-411e-80cf-deebc3023d5e",
   "metadata": {},
   "source": [
    "Q1. What is a database? Differentiate between SQL and NoSQL databases."
   ]
  },
  {
   "cell_type": "code",
   "execution_count": 1,
   "id": "aba764dc-6005-40ee-bb90-b1a9ecd343eb",
   "metadata": {},
   "outputs": [
    {
     "data": {
      "text/plain": [
       "'NoSQL databases (Non-relational Databases): These databases are designed to handle unstructured or semi-structured data and are not bound by the tabular schema of SQL databases. They offer more flexibility and scalability, and they use different data models such as key-value pairs, document-oriented, column-oriented, or graph databases. Examples include MongoDB, Cassandra, Redis, Couchbase.'"
      ]
     },
     "execution_count": 1,
     "metadata": {},
     "output_type": "execute_result"
    }
   ],
   "source": [
    "\"A database is a structured collection of data that is organized and stored in a manner that enables efficient retrieval, updating, and management of that data. There are two main types of databases:\"\n",
    "\n",
    "\"SQL databases (Relational Databases): These databases use Structured Query Language (SQL) for defining and manipulating the data. They are based on a tabular schema with rows and columns, and they typically use predefined schemas to determine the structure of the data. Examples include MySQL, PostgreSQL, SQLite, Oracle.\"\n",
    "\n",
    "\"NoSQL databases (Non-relational Databases): These databases are designed to handle unstructured or semi-structured data and are not bound by the tabular schema of SQL databases. They offer more flexibility and scalability, and they use different data models such as key-value pairs, document-oriented, column-oriented, or graph databases. Examples include MongoDB, Cassandra, Redis, Couchbase.\""
   ]
  },
  {
   "cell_type": "markdown",
   "id": "41ba5347-4a8d-44cd-9164-5565e0a47551",
   "metadata": {},
   "source": [
    "Q2. What is DDL? Explain why CREATE, DROP, ALTER, and TRUNCATE are used with an example."
   ]
  },
  {
   "cell_type": "code",
   "execution_count": 2,
   "id": "bbd12807-03a5-4959-b4fd-ff851e0067fa",
   "metadata": {},
   "outputs": [
    {
     "data": {
      "text/plain": [
       "'Example: TRUNCATE TABLE students;'"
      ]
     },
     "execution_count": 2,
     "metadata": {},
     "output_type": "execute_result"
    }
   ],
   "source": [
    "'DDL stands for Data Definition Language. It is used to define the structure of the database schema such as creating, altering, or dropping database objects like tables, indexes, etc.'\n",
    "\n",
    "'CREATE: It is used to create new database objects like tables, indexes, etc.'\n",
    "'Example: CREATE TABLE students (id INT, name VARCHAR(50), age INT);'\n",
    "\n",
    "'DROP: It is used to delete existing database objects.'\n",
    "'Example: DROP TABLE students;'\n",
    "\n",
    "'ALTER: It is used to modify the structure of an existing database object.'\n",
    "'Example: ALTER TABLE students ADD COLUMN gender CHAR(1);'\n",
    "\n",
    "'TRUNCATE: It is used to remove all records from a table, but it keeps the structure intact.'\n",
    "'Example: TRUNCATE TABLE students;'"
   ]
  },
  {
   "cell_type": "markdown",
   "id": "eae855ff-9504-44a6-a619-7092e831db07",
   "metadata": {},
   "source": [
    "Q3. What is DML? Explain INSERT, UPDATE, and DELETE with an example."
   ]
  },
  {
   "cell_type": "code",
   "execution_count": 5,
   "id": "5ec0d472-e184-40b3-a364-c7b0728153b2",
   "metadata": {},
   "outputs": [
    {
     "data": {
      "text/plain": [
       "'Example: DELETE FROM students WHERE id = 1;'"
      ]
     },
     "execution_count": 5,
     "metadata": {},
     "output_type": "execute_result"
    }
   ],
   "source": [
    "'DML stands for Data Manipulation Language. It is used to manipulate the data within the database.'\n",
    "\n",
    "\"INSERT: It is used to insert new records into a table.\"\n",
    "\"Example: INSERT INTO students (id, name, age) VALUES (1, 'John', 25);\"\n",
    "\n",
    "'UPDATE: It is used to modify existing records in a table.'\n",
    "'Example: UPDATE students SET age = 26 WHERE id = 1;'\n",
    "\n",
    "'DELETE: It is used to delete records from a table.'\n",
    "'Example: DELETE FROM students WHERE id = 1;'"
   ]
  },
  {
   "cell_type": "markdown",
   "id": "6a7b3819-26ff-4f32-9d9c-29cf296b43c7",
   "metadata": {},
   "source": [
    "Q4. What is DQL? Explain SELECT with an example."
   ]
  },
  {
   "cell_type": "code",
   "execution_count": 8,
   "id": "dca6d5fa-89b7-4672-a844-b382bceaef07",
   "metadata": {},
   "outputs": [
    {
     "data": {
      "text/plain": [
       "'This query selects all columns (*) from the students table where the age is greater than 20.'"
      ]
     },
     "execution_count": 8,
     "metadata": {},
     "output_type": "execute_result"
    }
   ],
   "source": [
    "SELECT: ' It is used to fetch data from one or more tables.'\n",
    "'Example: SELECT * FROM students WHERE age > 20;'\n",
    "'This query selects all columns (*) from the students table where the age is greater than 20.'"
   ]
  },
  {
   "cell_type": "markdown",
   "id": "4da757b0-98a5-420f-9b27-e4a85b8837ab",
   "metadata": {},
   "source": [
    "Q5. Explain Primary Key and Foreign Key."
   ]
  },
  {
   "cell_type": "code",
   "execution_count": 9,
   "id": "95e5bc73-3a7b-484b-a5a3-125b376214d2",
   "metadata": {},
   "outputs": [
    {
     "data": {
      "text/plain": [
       "'Foreign Key: A foreign key is a column or a set of columns in a table that establishes a link between data in two tables.It ensures referential integrity between the two related tables. The foreign key in one table refers to the primary key in another table. Example: student_id in a grades table, referencing the id column in the students table.'"
      ]
     },
     "execution_count": 9,
     "metadata": {},
     "output_type": "execute_result"
    }
   ],
   "source": [
    "\"Primary Key: A primary key is a column or a set of columns that uniquely identifies each row in a table.\" \"It ensures that there are no duplicate rows in the table. Typically, primary keys are implemented using unique indexes. Example: id column in a students table.\"\n",
    "\n",
    "\"Foreign Key: A foreign key is a column or a set of columns in a table that establishes a link between data in two tables.\" \"It ensures referential integrity between the two related tables. The foreign key in one table refers to the primary key in another table. Example: student_id in a grades table, referencing the id column in the students table.\""
   ]
  },
  {
   "cell_type": "markdown",
   "id": "9a473bdf-b9f7-4279-8f70-835f056fb39f",
   "metadata": {},
   "source": [
    "Q6. Write a python code to connect MySQL to python. Explain the cursor() and execute() method."
   ]
  },
  {
   "cell_type": "code",
   "execution_count": 11,
   "id": "53b65ac4-4ec7-480b-9621-18033c32c46a",
   "metadata": {},
   "outputs": [
    {
     "data": {
      "text/plain": [
       "'mydb.close(): This method closes the connection to the MySQL database server.'"
      ]
     },
     "execution_count": 11,
     "metadata": {},
     "output_type": "execute_result"
    }
   ],
   "source": [
    "\"mysql.connector.connect(): This method establishes a connection to the MySQL database server. You need to provide the host, user, password, and database name.\"\n",
    "\"mydb.cursor(): This method creates a cursor object, which is used to execute SQL queries.\"\n",
    "\"mycursor.execute(): This method is used to execute SQL queries. You pass the SQL query as a string parameter.\"\n",
    "\"mycursor.fetchall(): This method fetches all the rows of the result set returned by the SQL query.\"\n",
    "\"mydb.close(): This method closes the connection to the MySQL database server.\""
   ]
  },
  {
   "cell_type": "markdown",
   "id": "8d4e2884-fa80-49da-9772-35927358ae80",
   "metadata": {},
   "source": [
    "Q7. Give the order of execution of SQL clauses in an SQL query."
   ]
  },
  {
   "cell_type": "code",
   "execution_count": null,
   "id": "8327ccf7-4b49-4c08-92f7-6a1ea7aaca66",
   "metadata": {},
   "outputs": [],
   "source": [
    "FROM\n",
    "WHERE\n",
    "GROUP \n",
    "HAVING\n",
    "SELECT\n",
    "ORDER "
   ]
  },
  {
   "cell_type": "code",
   "execution_count": null,
   "id": "5b4d09b5-3280-4d95-8627-cf911a148bac",
   "metadata": {},
   "outputs": [],
   "source": []
  }
 ],
 "metadata": {
  "kernelspec": {
   "display_name": "Python 3 (ipykernel)",
   "language": "python",
   "name": "python3"
  },
  "language_info": {
   "codemirror_mode": {
    "name": "ipython",
    "version": 3
   },
   "file_extension": ".py",
   "mimetype": "text/x-python",
   "name": "python",
   "nbconvert_exporter": "python",
   "pygments_lexer": "ipython3",
   "version": "3.10.8"
  }
 },
 "nbformat": 4,
 "nbformat_minor": 5
}
